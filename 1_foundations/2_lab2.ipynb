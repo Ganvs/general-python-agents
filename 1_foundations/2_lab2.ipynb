{
 "cells": [
  {
   "cell_type": "markdown",
   "metadata": {},
   "source": [
    "## Welcome to the Second Lab - Week 1, Day 3\n",
    "\n",
    "Today we will work with lots of models! This is a way to get comfortable with APIs."
   ]
  },
  {
   "cell_type": "markdown",
   "metadata": {},
   "source": [
    "<table style=\"margin: 0; text-align: left; width:100%\">\n",
    "    <tr>\n",
    "        <td style=\"width: 150px; height: 150px; vertical-align: middle;\">\n",
    "            <img src=\"../assets/stop.png\" width=\"150\" height=\"150\" style=\"display: block;\" />\n",
    "        </td>\n",
    "        <td>\n",
    "            <h2 style=\"color:#ff7800;\">Important point - please read</h2>\n",
    "            <span style=\"color:#ff7800;\">The way I collaborate with you may be different to other courses you've taken. I prefer not to type code while you watch. Rather, I execute Jupyter Labs, like this, and give you an intuition for what's going on. My suggestion is that you carefully execute this yourself, <b>after</b> watching the lecture. Add print statements to understand what's going on, and then come up with your own variations.<br/><br/>If you have time, I'd love it if you submit a PR for changes in the community_contributions folder - instructions in the resources. Also, if you have a Github account, use this to showcase your variations. Not only is this essential practice, but it demonstrates your skills to others, including perhaps future clients or employers...\n",
    "            </span>\n",
    "        </td>\n",
    "    </tr>\n",
    "</table>"
   ]
  },
  {
   "cell_type": "code",
   "execution_count": 1,
   "metadata": {},
   "outputs": [],
   "source": [
    "# Start with imports - ask ChatGPT to explain any package that you don't know\n",
    "\n",
    "import os\n",
    "import json\n",
    "from dotenv import load_dotenv\n",
    "from openai import OpenAI\n",
    "from anthropic import Anthropic\n",
    "from IPython.display import Markdown, display"
   ]
  },
  {
   "cell_type": "code",
   "execution_count": 2,
   "metadata": {},
   "outputs": [
    {
     "data": {
      "text/plain": [
       "True"
      ]
     },
     "execution_count": 2,
     "metadata": {},
     "output_type": "execute_result"
    }
   ],
   "source": [
    "# Always remember to do this!\n",
    "load_dotenv(override=True)"
   ]
  },
  {
   "cell_type": "code",
   "execution_count": 3,
   "metadata": {},
   "outputs": [
    {
     "name": "stdout",
     "output_type": "stream",
     "text": [
      "OpenAI API Key exists and begins sk-proj-\n",
      "Anthropic API Key not set (and this is optional)\n",
      "Google API Key exists and begins AI\n",
      "DeepSeek API Key not set (and this is optional)\n",
      "Groq API Key not set (and this is optional)\n"
     ]
    }
   ],
   "source": [
    "# Print the key prefixes to help with any debugging\n",
    "\n",
    "openai_api_key = os.getenv('OPENAI_API_KEY')\n",
    "anthropic_api_key = os.getenv('ANTHROPIC_API_KEY')\n",
    "google_api_key = os.getenv('GOOGLE_API_KEY')\n",
    "deepseek_api_key = os.getenv('DEEPSEEK_API_KEY')\n",
    "groq_api_key = os.getenv('GROQ_API_KEY')\n",
    "\n",
    "if openai_api_key:\n",
    "    print(f\"OpenAI API Key exists and begins {openai_api_key[:8]}\")\n",
    "else:\n",
    "    print(\"OpenAI API Key not set\")\n",
    "    \n",
    "if anthropic_api_key:\n",
    "    print(f\"Anthropic API Key exists and begins {anthropic_api_key[:7]}\")\n",
    "else:\n",
    "    print(\"Anthropic API Key not set (and this is optional)\")\n",
    "\n",
    "if google_api_key:\n",
    "    print(f\"Google API Key exists and begins {google_api_key[:2]}\")\n",
    "else:\n",
    "    print(\"Google API Key not set (and this is optional)\")\n",
    "\n",
    "if deepseek_api_key:\n",
    "    print(f\"DeepSeek API Key exists and begins {deepseek_api_key[:3]}\")\n",
    "else:\n",
    "    print(\"DeepSeek API Key not set (and this is optional)\")\n",
    "\n",
    "if groq_api_key:\n",
    "    print(f\"Groq API Key exists and begins {groq_api_key[:4]}\")\n",
    "else:\n",
    "    print(\"Groq API Key not set (and this is optional)\")"
   ]
  },
  {
   "cell_type": "code",
   "execution_count": 4,
   "metadata": {},
   "outputs": [],
   "source": [
    "request = \"Please come up with a challenging, nuanced question that I can ask a number of LLMs to evaluate their intelligence. \"\n",
    "request += \"Answer only with the question, no explanation.\"\n",
    "messages = [{\"role\": \"user\", \"content\": request}]"
   ]
  },
  {
   "cell_type": "code",
   "execution_count": 5,
   "metadata": {},
   "outputs": [
    {
     "data": {
      "text/plain": [
       "[{'role': 'user',\n",
       "  'content': 'Please come up with a challenging, nuanced question that I can ask a number of LLMs to evaluate their intelligence. Answer only with the question, no explanation.'}]"
      ]
     },
     "execution_count": 5,
     "metadata": {},
     "output_type": "execute_result"
    }
   ],
   "source": [
    "messages"
   ]
  },
  {
   "cell_type": "code",
   "execution_count": 7,
   "metadata": {},
   "outputs": [
    {
     "name": "stdout",
     "output_type": "stream",
     "text": [
      "If you were tasked with designing a new ethical framework for artificial intelligence that balances innovation with societal safety, what core principles would you include, and how would you address potential conflicts between these principles?\n"
     ]
    }
   ],
   "source": [
    "openai = OpenAI()\n",
    "response = openai.chat.completions.create(\n",
    "    model=\"gpt-4o-mini\",\n",
    "    messages=messages,\n",
    ")\n",
    "question = response.choices[0].message.content\n",
    "print(question)\n"
   ]
  },
  {
   "cell_type": "code",
   "execution_count": 8,
   "metadata": {},
   "outputs": [],
   "source": [
    "competitors = []\n",
    "answers = []\n",
    "messages = [{\"role\": \"user\", \"content\": question}]"
   ]
  },
  {
   "cell_type": "code",
   "execution_count": 8,
   "metadata": {},
   "outputs": [
    {
     "data": {
      "text/markdown": [
       "Redesigning human society while preserving diverse cultures and identities is a complex task, but certain core principles and structures can be implemented to achieve a balance between individual freedom, social responsibility, and collective well-being. Here are some fundamental ideas:\n",
       "\n",
       "### Core Principles:\n",
       "\n",
       "1. **Respect for Diversity**:\n",
       "   - Create a robust framework that promotes cultural pluralism, allowing multiple identities and practices to coexist. This could include cultural education programs, celebration of diverse traditions, and legal protections for minority cultures.\n",
       "\n",
       "2. **Empowered Communities**:\n",
       "   - Foster local governance structures that give communities a voice in decision-making. Establish participatory democracy practices, such as town hall meetings and consensus-building forums, to encourage civic engagement.\n",
       "\n",
       "3. **Social Safety Nets**:\n",
       "   - Implement comprehensive social safety nets that assure minimum living standards for all, including access to healthcare, education, and housing. This promotes social responsibility while ensuring individual dignity and freedom.\n",
       "\n",
       "4. **Ecological Sustainability**:\n",
       "   - Embed environmental stewardship into the core of societal values. Promote sustainable practices and policies that protect ecosystems while offering incentives for businesses and communities to adopt green technologies.\n",
       "\n",
       "5. **Equitable Resource Distribution**:\n",
       "   - Establish fair economic systems that prevent extreme disparities in wealth. Consider implementing basic income systems, wealth taxes, or cooperatives that distribute profits among members to ensure everyone has access to resources.\n",
       "\n",
       "6. **Education for Critical Thinking and Empathy**:\n",
       "   - Revamp educational systems to emphasize critical thinking, media literacy, and empathy. Curriculum should include diverse histories, philosophies, and worldviews, fostering understanding and collaboration among different cultures.\n",
       "\n",
       "### Structural Elements:\n",
       "\n",
       "1. **Decentralized Governance**:\n",
       "   - Create a tiered governance system that combines local autonomy with broader regional and global collaboration. Local councils could address community-specific issues while larger bodies handle cross-regional concerns.\n",
       "\n",
       "2. **Participatory Economic Systems**:\n",
       "   - Emphasize cooperative businesses and social enterprises that prioritize community benefit over profit maximization. Encourage transparent business practices that enable consumers to make informed choices aligned with their values.\n",
       "\n",
       "3. **Cultural Exchange Programs**:\n",
       "   - Promote systems for cultural exchange that facilitate direct interactions among diverse groups, enhancing understanding and respect. Such interactions might include cultural festivals, art exchanges, and scholarship programs.\n",
       "\n",
       "4. **Inclusive Technology Access**:\n",
       "   - Ensure equitable access to technology as a tool for empowerment. Provide resources for underrepresented communities to engage with and benefit from digital innovations, promoting inclusivity in the digital age.\n",
       "\n",
       "5. **Conflict Resolution Mechanisms**:\n",
       "   - Establish restorative justice approaches to address conflicts and grievances. This emphasizes understanding and reconciliation rather than punitive measures, fostering a sense of community and collective responsibility.\n",
       "\n",
       "6. **Well-being Focused Policies**:\n",
       "   - Develop policies that prioritize mental and physical well-being, including universal access to psychological services, stress management programs, and community wellness initiatives.\n",
       "\n",
       "By embedding these principles and structures into the framework of society, we can create an environment that nurtures individual freedom while also emphasizing social responsibility and collective well-being. The aim should be a vibrant society that values every culture and identity, fostering understanding and cooperation among its members."
      ],
      "text/plain": [
       "<IPython.core.display.Markdown object>"
      ]
     },
     "metadata": {},
     "output_type": "display_data"
    }
   ],
   "source": [
    "# The API we know well\n",
    "\n",
    "model_name = \"gpt-4o-mini\"\n",
    "\n",
    "response = openai.chat.completions.create(model=model_name, messages=messages)\n",
    "answer = response.choices[0].message.content\n",
    "\n",
    "display(Markdown(answer))\n",
    "competitors.append(model_name)\n",
    "answers.append(answer)"
   ]
  },
  {
   "cell_type": "code",
   "execution_count": null,
   "metadata": {},
   "outputs": [],
   "source": [
    "# Anthropic has a slightly different API, and Max Tokens is required\n",
    "\n",
    "model_name = \"claude-3-7-sonnet-latest\"\n",
    "\n",
    "claude = Anthropic()\n",
    "response = claude.messages.create(model=model_name, messages=messages, max_tokens=1000)\n",
    "answer = response.content[0].text\n",
    "\n",
    "display(Markdown(answer))\n",
    "competitors.append(model_name)\n",
    "answers.append(answer)"
   ]
  },
  {
   "cell_type": "code",
   "execution_count": 9,
   "metadata": {},
   "outputs": [
    {
     "data": {
      "text/markdown": [
       "Okay, designing an ethical framework for AI is a complex challenge, requiring careful consideration of various stakeholders and potential consequences. Here's my approach, outlining core principles and how to manage potential conflicts:\n",
       "\n",
       "**Core Principles:**\n",
       "\n",
       "1.  **Human-Centricity & Flourishing:**\n",
       "    *   **Definition:** AI should be designed and used to enhance human capabilities, well-being, and potential for flourishing, not to replace or diminish them. It should prioritize human autonomy, dignity, and fundamental rights.\n",
       "    *   **Implications:** This principle guides AI development towards solving societal problems, augmenting human skills, and promoting inclusivity.  It pushes against AI systems that automate jobs without considering the impact on livelihoods or that reinforce existing inequalities.\n",
       "\n",
       "2.  **Transparency & Explainability:**\n",
       "    *   **Definition:**  AI systems should be transparent and explainable to a degree appropriate to their impact and the context of their use.  This includes understanding how decisions are made, the data used, and potential biases.\n",
       "    *   **Implications:**  Transparency builds trust and accountability. It enables auditing for fairness and bias, allows humans to intervene and correct errors, and provides users with a reasonable understanding of how AI affects them. The \"right to explanation\" is a key element.  The level of explainability required will vary; a medical diagnosis system needs far more transparency than a music recommendation algorithm.\n",
       "\n",
       "3.  **Fairness & Non-Discrimination:**\n",
       "    *   **Definition:** AI systems should be designed and used to avoid perpetuating or amplifying biases that lead to unfair or discriminatory outcomes. Fairness should be considered across various dimensions (e.g., race, gender, religion, socio-economic status).\n",
       "    *   **Implications:** This requires careful attention to data collection, algorithm design, and outcome evaluation.  It involves actively identifying and mitigating potential biases in training data and ensuring that AI systems are tested and validated across diverse populations. This principle also requires defining and operationalizing fairness metrics (e.g., equal opportunity, demographic parity) and acknowledging that different metrics may be appropriate in different contexts.\n",
       "\n",
       "4.  **Accountability & Responsibility:**\n",
       "    *   **Definition:** Clear lines of accountability and responsibility should be established for the design, development, deployment, and use of AI systems. This includes identifying who is responsible for errors, biases, or unintended consequences.\n",
       "    *   **Implications:** This principle necessitates a framework for assigning liability in cases where AI systems cause harm. It might involve holding developers, deployers, or users accountable, depending on the specific circumstances. Auditing and monitoring mechanisms are crucial for enforcing accountability. We need to consider both individual and organizational accountability.\n",
       "\n",
       "5.  **Privacy & Data Security:**\n",
       "    *   **Definition:** AI systems should be designed and used in ways that respect individuals' privacy and protect their data. Data collection, storage, and processing should be transparent, secure, and compliant with relevant regulations.\n",
       "    *   **Implications:** This principle necessitates strong data governance practices, including obtaining informed consent for data collection, implementing robust security measures to prevent data breaches, and providing individuals with control over their data. Data minimization (collecting only the data necessary for a specific purpose) is also a key aspect.\n",
       "\n",
       "6.  **Robustness & Safety:**\n",
       "    *   **Definition:** AI systems should be designed to be robust, reliable, and safe under a variety of conditions, including adversarial attacks and unexpected inputs.\n",
       "    *   **Implications:** This requires rigorous testing and validation of AI systems, as well as the development of techniques for detecting and mitigating potential risks. It involves considering edge cases and developing fail-safe mechanisms to prevent harm. Regular monitoring and maintenance are also essential.\n",
       "\n",
       "7.  **Sustainability & Environmental Responsibility:**\n",
       "    *   **Definition:**  The development and deployment of AI should be environmentally sustainable and minimize its impact on the planet.\n",
       "    *   **Implications:**  This requires considering the energy consumption of AI systems, the use of resources in hardware production, and the potential for AI to contribute to climate change solutions or exacerbate environmental problems.  This principle encourages the development of energy-efficient AI algorithms and the responsible use of resources.\n",
       "\n",
       "**Addressing Potential Conflicts Between Principles:**\n",
       "\n",
       "Conflicts between these principles are inevitable. Here's how I would approach managing them:\n",
       "\n",
       "1.  **Prioritization Framework (Context-Specific):**\n",
       "    *   There's no one-size-fits-all solution. Prioritization must be context-specific and determined through stakeholder engagement.  For example, in healthcare, patient safety (Robustness & Safety) might take precedence over absolute transparency if full explainability compromises diagnostic accuracy. In other areas, fairness might be paramount.\n",
       "    *   A framework for weighing principles based on the application and potential impacts is needed.  This framework should be transparent and subject to public debate.\n",
       "\n",
       "2.  **Trade-off Analysis & Documentation:**\n",
       "    *   When conflicts arise, a thorough analysis of the potential trade-offs should be conducted. This analysis should consider the impact on all relevant stakeholders and document the rationale for the chosen approach.\n",
       "    *   This documentation should be publicly accessible (where appropriate, balancing transparency with security/privacy) to facilitate scrutiny and accountability.\n",
       "\n",
       "3.  **Stakeholder Engagement & Deliberation:**\n",
       "    *   Involve a diverse range of stakeholders in the decision-making process, including ethicists, developers, policymakers, users, and affected communities.\n",
       "    *   Facilitate open and transparent dialogue to ensure that all perspectives are considered and that decisions reflect societal values.  This includes establishing mechanisms for public input and feedback.\n",
       "\n",
       "4.  **Dynamic & Iterative Approach:**\n",
       "    *   The ethical framework should be viewed as a living document that is constantly evolving in response to new developments in AI and changes in societal values.\n",
       "    *   Regular reviews and updates are necessary to ensure that the framework remains relevant and effective.\n",
       "    *   Implement continuous monitoring and evaluation of AI systems to identify potential ethical issues and address them proactively.\n",
       "\n",
       "5.  **Algorithmic Auditing & Impact Assessments:**\n",
       "    *   Implement independent algorithmic audits to assess AI systems for fairness, bias, and compliance with ethical principles.\n",
       "    *   Conduct impact assessments to evaluate the potential social, economic, and environmental consequences of AI deployments.\n",
       "\n",
       "6.  **Education & Awareness:**\n",
       "    *   Promote education and awareness about the ethical implications of AI among developers, policymakers, and the general public.\n",
       "    *   Foster a culture of ethical AI development and use.\n",
       "\n",
       "7. **Escalation Mechanism:**\n",
       "    * A clear escalation path is required for situations where ethical conflicts are not resolved through the standard process.  This might involve an independent ethics review board or a regulatory body.\n",
       "\n",
       "**Example Conflict & Resolution:**\n",
       "\n",
       "*   **Conflict:** Improving the accuracy of a facial recognition system (Robustness) requires collecting and analyzing large amounts of sensitive personal data (Privacy).\n",
       "*   **Resolution:**\n",
       "    *   **Data Minimization:** Collect only the data that is absolutely necessary for improving accuracy.\n",
       "    *   **Anonymization/De-identification:**  Employ techniques to anonymize or de-identify data wherever possible.\n",
       "    *   **Transparency & Consent:** Be transparent about data collection practices and obtain informed consent from individuals.\n",
       "    *   **Secure Data Storage:** Implement robust security measures to protect data from unauthorized access.\n",
       "    *   **Contextual Limitations:**  Limit the use of facial recognition to specific, justifiable contexts (e.g., law enforcement with appropriate warrants).\n",
       "\n",
       "**Key Considerations:**\n",
       "\n",
       "*   **Global Harmonization:** While ethical frameworks need to be adapted to local contexts, efforts should be made to harmonize ethical principles and standards across different countries and regions.\n",
       "*   **Regulatory Frameworks:**  Governments should play a role in establishing regulatory frameworks for AI that enforce ethical principles and ensure accountability.  However, regulation should be carefully designed to avoid stifling innovation.\n",
       "*   **Industry Self-Regulation:**  Industry should also take responsibility for developing and implementing ethical guidelines and standards for AI development and use.\n",
       "\n",
       "By adopting these principles and a proactive approach to conflict resolution, we can strive to create an ethical framework that promotes responsible AI innovation that benefits humanity while mitigating potential risks.\n"
      ],
      "text/plain": [
       "<IPython.core.display.Markdown object>"
      ]
     },
     "metadata": {},
     "output_type": "display_data"
    }
   ],
   "source": [
    "gemini = OpenAI(api_key=google_api_key, base_url=\"https://generativelanguage.googleapis.com/v1beta/openai/\")\n",
    "model_name = \"gemini-2.0-flash\"\n",
    "\n",
    "response = gemini.chat.completions.create(model=model_name, messages=messages)\n",
    "answer = response.choices[0].message.content\n",
    "\n",
    "display(Markdown(answer))\n",
    "competitors.append(model_name)\n",
    "answers.append(answer)"
   ]
  },
  {
   "cell_type": "code",
   "execution_count": null,
   "metadata": {},
   "outputs": [],
   "source": [
    "deepseek = OpenAI(api_key=deepseek_api_key, base_url=\"https://api.deepseek.com/v1\")\n",
    "model_name = \"deepseek-chat\"\n",
    "\n",
    "response = deepseek.chat.completions.create(model=model_name, messages=messages)\n",
    "answer = response.choices[0].message.content\n",
    "\n",
    "display(Markdown(answer))\n",
    "competitors.append(model_name)\n",
    "answers.append(answer)"
   ]
  },
  {
   "cell_type": "code",
   "execution_count": null,
   "metadata": {},
   "outputs": [],
   "source": [
    "groq = OpenAI(api_key=groq_api_key, base_url=\"https://api.groq.com/openai/v1\")\n",
    "model_name = \"llama-3.3-70b-versatile\"\n",
    "\n",
    "response = groq.chat.completions.create(model=model_name, messages=messages)\n",
    "answer = response.choices[0].message.content\n",
    "\n",
    "display(Markdown(answer))\n",
    "competitors.append(model_name)\n",
    "answers.append(answer)\n"
   ]
  },
  {
   "cell_type": "markdown",
   "metadata": {},
   "source": [
    "## For the next cell, we will use Ollama\n",
    "\n",
    "Ollama runs a local web service that gives an OpenAI compatible endpoint,  \n",
    "and runs models locally using high performance C++ code.\n",
    "\n",
    "If you don't have Ollama, install it here by visiting https://ollama.com then pressing Download and following the instructions.\n",
    "\n",
    "After it's installed, you should be able to visit here: http://localhost:11434 and see the message \"Ollama is running\"\n",
    "\n",
    "You might need to restart Cursor (and maybe reboot). Then open a Terminal (control+\\`) and run `ollama serve`\n",
    "\n",
    "Useful Ollama commands (run these in the terminal, or with an exclamation mark in this notebook):\n",
    "\n",
    "`ollama pull <model_name>` downloads a model locally  \n",
    "`ollama ls` lists all the models you've downloaded  \n",
    "`ollama rm <model_name>` deletes the specified model from your downloads"
   ]
  },
  {
   "cell_type": "markdown",
   "metadata": {},
   "source": [
    "<table style=\"margin: 0; text-align: left; width:100%\">\n",
    "    <tr>\n",
    "        <td style=\"width: 150px; height: 150px; vertical-align: middle;\">\n",
    "            <img src=\"../assets/stop.png\" width=\"150\" height=\"150\" style=\"display: block;\" />\n",
    "        </td>\n",
    "        <td>\n",
    "            <h2 style=\"color:#ff7800;\">Super important - ignore me at your peril!</h2>\n",
    "            <span style=\"color:#ff7800;\">The model called <b>llama3.3</b> is FAR too large for home computers - it's not intended for personal computing and will consume all your resources! Stick with the nicely sized <b>llama3.2</b> or <b>llama3.2:1b</b> and if you want larger, try llama3.1 or smaller variants of Qwen, Gemma, Phi or DeepSeek. See the <A href=\"https://ollama.com/models\">the Ollama models page</a> for a full list of models and sizes.\n",
    "            </span>\n",
    "        </td>\n",
    "    </tr>\n",
    "</table>"
   ]
  },
  {
   "cell_type": "code",
   "execution_count": null,
   "metadata": {},
   "outputs": [],
   "source": [
    "!ollama pull llama3.2"
   ]
  },
  {
   "cell_type": "code",
   "execution_count": null,
   "metadata": {},
   "outputs": [],
   "source": [
    "ollama = OpenAI(base_url='http://localhost:11434/v1', api_key='ollama')\n",
    "model_name = \"llama3.2\"\n",
    "\n",
    "response = ollama.chat.completions.create(model=model_name, messages=messages)\n",
    "answer = response.choices[0].message.content\n",
    "\n",
    "display(Markdown(answer))\n",
    "competitors.append(model_name)\n",
    "answers.append(answer)"
   ]
  },
  {
   "cell_type": "code",
   "execution_count": 9,
   "metadata": {},
   "outputs": [
    {
     "name": "stdout",
     "output_type": "stream",
     "text": [
      "['gpt-4o-mini']\n",
      "['Redesigning human society while preserving diverse cultures and identities is a complex task, but certain core principles and structures can be implemented to achieve a balance between individual freedom, social responsibility, and collective well-being. Here are some fundamental ideas:\\n\\n### Core Principles:\\n\\n1. **Respect for Diversity**:\\n   - Create a robust framework that promotes cultural pluralism, allowing multiple identities and practices to coexist. This could include cultural education programs, celebration of diverse traditions, and legal protections for minority cultures.\\n\\n2. **Empowered Communities**:\\n   - Foster local governance structures that give communities a voice in decision-making. Establish participatory democracy practices, such as town hall meetings and consensus-building forums, to encourage civic engagement.\\n\\n3. **Social Safety Nets**:\\n   - Implement comprehensive social safety nets that assure minimum living standards for all, including access to healthcare, education, and housing. This promotes social responsibility while ensuring individual dignity and freedom.\\n\\n4. **Ecological Sustainability**:\\n   - Embed environmental stewardship into the core of societal values. Promote sustainable practices and policies that protect ecosystems while offering incentives for businesses and communities to adopt green technologies.\\n\\n5. **Equitable Resource Distribution**:\\n   - Establish fair economic systems that prevent extreme disparities in wealth. Consider implementing basic income systems, wealth taxes, or cooperatives that distribute profits among members to ensure everyone has access to resources.\\n\\n6. **Education for Critical Thinking and Empathy**:\\n   - Revamp educational systems to emphasize critical thinking, media literacy, and empathy. Curriculum should include diverse histories, philosophies, and worldviews, fostering understanding and collaboration among different cultures.\\n\\n### Structural Elements:\\n\\n1. **Decentralized Governance**:\\n   - Create a tiered governance system that combines local autonomy with broader regional and global collaboration. Local councils could address community-specific issues while larger bodies handle cross-regional concerns.\\n\\n2. **Participatory Economic Systems**:\\n   - Emphasize cooperative businesses and social enterprises that prioritize community benefit over profit maximization. Encourage transparent business practices that enable consumers to make informed choices aligned with their values.\\n\\n3. **Cultural Exchange Programs**:\\n   - Promote systems for cultural exchange that facilitate direct interactions among diverse groups, enhancing understanding and respect. Such interactions might include cultural festivals, art exchanges, and scholarship programs.\\n\\n4. **Inclusive Technology Access**:\\n   - Ensure equitable access to technology as a tool for empowerment. Provide resources for underrepresented communities to engage with and benefit from digital innovations, promoting inclusivity in the digital age.\\n\\n5. **Conflict Resolution Mechanisms**:\\n   - Establish restorative justice approaches to address conflicts and grievances. This emphasizes understanding and reconciliation rather than punitive measures, fostering a sense of community and collective responsibility.\\n\\n6. **Well-being Focused Policies**:\\n   - Develop policies that prioritize mental and physical well-being, including universal access to psychological services, stress management programs, and community wellness initiatives.\\n\\nBy embedding these principles and structures into the framework of society, we can create an environment that nurtures individual freedom while also emphasizing social responsibility and collective well-being. The aim should be a vibrant society that values every culture and identity, fostering understanding and cooperation among its members.']\n"
     ]
    }
   ],
   "source": [
    "# So where are we?\n",
    "\n",
    "print(competitors)\n",
    "print(answers)\n"
   ]
  },
  {
   "cell_type": "code",
   "execution_count": null,
   "metadata": {},
   "outputs": [],
   "source": [
    "# It's nice to know how to use \"zip\"\n",
    "for competitor, answer in zip(competitors, answers):\n",
    "    print(f\"Competitor: {competitor}\\n\\n{answer}\")\n"
   ]
  },
  {
   "cell_type": "code",
   "execution_count": 20,
   "metadata": {},
   "outputs": [],
   "source": [
    "# Let's bring this together - note the use of \"enumerate\"\n",
    "\n",
    "together = \"\"\n",
    "for index, answer in enumerate(answers):\n",
    "    together += f\"# Response from competitor {index+1}\\n\\n\"\n",
    "    together += answer + \"\\n\\n\""
   ]
  },
  {
   "cell_type": "code",
   "execution_count": null,
   "metadata": {},
   "outputs": [],
   "source": [
    "print(together)"
   ]
  },
  {
   "cell_type": "code",
   "execution_count": 10,
   "metadata": {},
   "outputs": [
    {
     "ename": "NameError",
     "evalue": "name 'together' is not defined",
     "output_type": "error",
     "traceback": [
      "\u001b[31m---------------------------------------------------------------------------\u001b[39m",
      "\u001b[31mNameError\u001b[39m                                 Traceback (most recent call last)",
      "\u001b[36mCell\u001b[39m\u001b[36m \u001b[39m\u001b[32mIn[10]\u001b[39m\u001b[32m, line 12\u001b[39m\n\u001b[32m      1\u001b[39m judge = \u001b[33mf\u001b[39m\u001b[33m\"\"\"\u001b[39m\u001b[33mYou are judging a competition between \u001b[39m\u001b[38;5;132;01m{\u001b[39;00m\u001b[38;5;28mlen\u001b[39m(competitors)\u001b[38;5;132;01m}\u001b[39;00m\u001b[33m competitors.\u001b[39m\n\u001b[32m      2\u001b[39m \u001b[33mEach model has been given this question:\u001b[39m\n\u001b[32m      3\u001b[39m \n\u001b[32m      4\u001b[39m \u001b[38;5;132;01m{\u001b[39;00mquestion\u001b[38;5;132;01m}\u001b[39;00m\n\u001b[32m      5\u001b[39m \n\u001b[32m      6\u001b[39m \u001b[33mYour job is to evaluate each response for clarity and strength of argument, and rank them in order of best to worst.\u001b[39m\n\u001b[32m      7\u001b[39m \u001b[33mRespond with JSON, and only JSON, with the following format:\u001b[39m\n\u001b[32m      8\u001b[39m \u001b[38;5;130;01m{{\u001b[39;00m\u001b[33m\"\u001b[39m\u001b[33mresults\u001b[39m\u001b[33m\"\u001b[39m\u001b[33m: [\u001b[39m\u001b[33m\"\u001b[39m\u001b[33mbest competitor number\u001b[39m\u001b[33m\"\u001b[39m\u001b[33m, \u001b[39m\u001b[33m\"\u001b[39m\u001b[33msecond best competitor number\u001b[39m\u001b[33m\"\u001b[39m\u001b[33m, \u001b[39m\u001b[33m\"\u001b[39m\u001b[33mthird best competitor number\u001b[39m\u001b[33m\"\u001b[39m\u001b[33m, ...]\u001b[39m\u001b[38;5;130;01m}}\u001b[39;00m\n\u001b[32m      9\u001b[39m \n\u001b[32m     10\u001b[39m \u001b[33mHere are the responses from each competitor:\u001b[39m\n\u001b[32m     11\u001b[39m \n\u001b[32m---> \u001b[39m\u001b[32m12\u001b[39m \u001b[38;5;132;01m{\u001b[39;00m\u001b[43mtogether\u001b[49m\u001b[38;5;132;01m}\u001b[39;00m\n\u001b[32m     13\u001b[39m \n\u001b[32m     14\u001b[39m \u001b[33mNow respond with the JSON with the ranked order of the competitors, nothing else. Do not include markdown formatting or code blocks.\u001b[39m\u001b[33m\"\"\"\u001b[39m\n",
      "\u001b[31mNameError\u001b[39m: name 'together' is not defined"
     ]
    }
   ],
   "source": [
    "judge = f\"\"\"You are judging a competition between {len(competitors)} competitors.\n",
    "Each model has been given this question:\n",
    "\n",
    "{question}\n",
    "\n",
    "Your job is to evaluate each response for clarity and strength of argument, and rank them in order of best to worst.\n",
    "Respond with JSON, and only JSON, with the following format:\n",
    "{{\"results\": [\"best competitor number\", \"second best competitor number\", \"third best competitor number\", ...]}}\n",
    "\n",
    "Here are the responses from each competitor:\n",
    "\n",
    "{together}\n",
    "\n",
    "Now respond with the JSON with the ranked order of the competitors, nothing else. Do not include markdown formatting or code blocks.\"\"\"\n"
   ]
  },
  {
   "cell_type": "code",
   "execution_count": null,
   "metadata": {},
   "outputs": [],
   "source": [
    "print(judge)"
   ]
  },
  {
   "cell_type": "code",
   "execution_count": 29,
   "metadata": {},
   "outputs": [],
   "source": [
    "judge_messages = [{\"role\": \"user\", \"content\": judge}]"
   ]
  },
  {
   "cell_type": "code",
   "execution_count": null,
   "metadata": {},
   "outputs": [],
   "source": [
    "# Judgement time!\n",
    "\n",
    "openai = OpenAI()\n",
    "response = openai.chat.completions.create(\n",
    "    model=\"o3-mini\",\n",
    "    messages=judge_messages,\n",
    ")\n",
    "results = response.choices[0].message.content\n",
    "print(results)\n"
   ]
  },
  {
   "cell_type": "code",
   "execution_count": null,
   "metadata": {},
   "outputs": [],
   "source": [
    "# OK let's turn this into results!\n",
    "\n",
    "results_dict = json.loads(results)\n",
    "ranks = results_dict[\"results\"]\n",
    "for index, result in enumerate(ranks):\n",
    "    competitor = competitors[int(result)-1]\n",
    "    print(f\"Rank {index+1}: {competitor}\")"
   ]
  },
  {
   "cell_type": "markdown",
   "metadata": {},
   "source": [
    "<table style=\"margin: 0; text-align: left; width:100%\">\n",
    "    <tr>\n",
    "        <td style=\"width: 150px; height: 150px; vertical-align: middle;\">\n",
    "            <img src=\"../assets/exercise.png\" width=\"150\" height=\"150\" style=\"display: block;\" />\n",
    "        </td>\n",
    "        <td>\n",
    "            <h2 style=\"color:#ff7800;\">Exercise</h2>\n",
    "            <span style=\"color:#ff7800;\">Which pattern(s) did this use? Try updating this to add another Agentic design pattern.\n",
    "            </span>\n",
    "        </td>\n",
    "    </tr>\n",
    "</table>"
   ]
  },
  {
   "cell_type": "markdown",
   "metadata": {},
   "source": [
    "<table style=\"margin: 0; text-align: left; width:100%\">\n",
    "    <tr>\n",
    "        <td style=\"width: 150px; height: 150px; vertical-align: middle;\">\n",
    "            <img src=\"../assets/business.png\" width=\"150\" height=\"150\" style=\"display: block;\" />\n",
    "        </td>\n",
    "        <td>\n",
    "            <h2 style=\"color:#00bfff;\">Commercial implications</h2>\n",
    "            <span style=\"color:#00bfff;\">These kinds of patterns - to send a task to multiple models, and evaluate results,\n",
    "            are common where you need to improve the quality of your LLM response. This approach can be universally applied\n",
    "            to business projects where accuracy is critical.\n",
    "            </span>\n",
    "        </td>\n",
    "    </tr>\n",
    "</table>"
   ]
  }
 ],
 "metadata": {
  "kernelspec": {
   "display_name": ".venv",
   "language": "python",
   "name": "python3"
  },
  "language_info": {
   "codemirror_mode": {
    "name": "ipython",
    "version": 3
   },
   "file_extension": ".py",
   "mimetype": "text/x-python",
   "name": "python",
   "nbconvert_exporter": "python",
   "pygments_lexer": "ipython3",
   "version": "3.12.6"
  }
 },
 "nbformat": 4,
 "nbformat_minor": 2
}
