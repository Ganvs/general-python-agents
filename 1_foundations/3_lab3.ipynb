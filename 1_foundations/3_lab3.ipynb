{
 "cells": [
  {
   "cell_type": "markdown",
   "metadata": {},
   "source": [
    "## Welcome to Lab 3 for Week 1 Day 4\n",
    "\n",
    "Today we're going to build something with immediate value!\n",
    "\n",
    "In the folder `me` I've put a single file `linkedin.pdf` - it's a PDF download of my LinkedIn profile.\n",
    "\n",
    "Please replace it with yours!\n",
    "\n",
    "I've also made a file called `summary.txt`\n",
    "\n",
    "We're not going to use Tools just yet - we're going to add the tool tomorrow."
   ]
  },
  {
   "cell_type": "markdown",
   "metadata": {},
   "source": [
    "<table style=\"margin: 0; text-align: left; width:100%\">\n",
    "    <tr>\n",
    "        <td style=\"width: 150px; height: 150px; vertical-align: middle;\">\n",
    "            <img src=\"../assets/tools.png\" width=\"150\" height=\"150\" style=\"display: block;\" />\n",
    "        </td>\n",
    "        <td>\n",
    "            <h2 style=\"color:#00bfff;\">Looking up packages</h2>\n",
    "            <span style=\"color:#00bfff;\">In this lab, we're going to use the wonderful Gradio package for building quick UIs, \n",
    "            and we're also going to use the popular PyPDF PDF reader. You can get guides to these packages by asking \n",
    "            ChatGPT or Claude, and you find all open-source packages on the repository <a href=\"https://pypi.org\">https://pypi.org</a>.\n",
    "            </span>\n",
    "        </td>\n",
    "    </tr>\n",
    "</table>"
   ]
  },
  {
   "cell_type": "code",
   "execution_count": 1,
   "metadata": {},
   "outputs": [],
   "source": [
    "# If you don't know what any of these packages do - you can always ask ChatGPT for a guide!\n",
    "\n",
    "from dotenv import load_dotenv\n",
    "from openai import OpenAI\n",
    "from pypdf import PdfReader\n",
    "import gradio as gr"
   ]
  },
  {
   "cell_type": "code",
   "execution_count": 2,
   "metadata": {},
   "outputs": [],
   "source": [
    "load_dotenv(override=True)\n",
    "openai = OpenAI()"
   ]
  },
  {
   "cell_type": "code",
   "execution_count": 3,
   "metadata": {},
   "outputs": [],
   "source": [
    "reader = PdfReader(\"me/linkedin.pdf\")\n",
    "linkedin = \"\"\n",
    "for page in reader.pages:\n",
    "    text = page.extract_text()\n",
    "    if text:\n",
    "        linkedin += text"
   ]
  },
  {
   "cell_type": "code",
   "execution_count": 4,
   "metadata": {},
   "outputs": [
    {
     "name": "stdout",
     "output_type": "stream",
     "text": [
      "   \n",
      "Contact\n",
      "Joinville, SC\n",
      "+55 (47) 99726-4090 (Mobile)\n",
      "gustavo.anverze@hotmail.com\n",
      "www.linkedin.com/in/\n",
      "gustavoanverze (LinkedIn)\n",
      "Top Skills\n",
      "Kanban\n",
      "Nomes de domínio\n",
      "Estratégias de campanha\n",
      "Languages\n",
      "Inglês (Professional Working)\n",
      "Certifications\n",
      "Intermediate R Course\n",
      "React e Next - Cursando\n",
      "Curso de Linux\n",
      "Curso de Introdução a DevOps\n",
      "Big Data Analytics com R e Microsoft\n",
      "Azure Machine Learning\n",
      "Gustavo Anverze de Souza\n",
      "DevOps & Cloud Engineer | AWS | Docker | Kubernetes | Terraform |\n",
      "Linux | CI/CD | Python | Workflow Automation with n8n\n",
      "Joinville, Santa Catarina, Brazil\n",
      "Summary\n",
      "Technology professional with over 9 years of experience, with a\n",
      "background ranging from technical support in corporate systems\n",
      "to web development and process automation, always focused on\n",
      "efficiency and scalability.\n",
      "Currently making a strategic transition into Cloud/DevOps,\n",
      "deepening my knowledge in technologies like AWS, Docker,\n",
      "Kubernetes, Terraform, Linux, CI/CD, and Python, aiming to build\n",
      "robust, scalable, and automated environments.\n",
      "Throughout my career, I’ve worked extensively on process\n",
      "automation, using n8n and Python to create smart integrations\n",
      "between APIs and internal systems, streamlining operations and\n",
      "increasing team productivity. In web projects, I’ve led migrations from\n",
      "WordPress to React/Next.js, with a strong focus on performance,\n",
      "SEO, and user experience.\n",
      "My skill set combines product vision, software engineering, and\n",
      "DevOps culture. I aim to align technical solutions with business goals\n",
      "through analytical thinking, creativity, and a results-driven mindset.\n",
      "Tech Stack: AWS, Docker, Kubernetes, Terraform, Linux, Git, CI/CD,\n",
      "Python, n8n, React, Next.js\n",
      "Soft Skills: Proactiveness, adaptability, teamwork, logical thinking,\n",
      "delivery focus, and clear communication\n",
      "I’m open to new connections and opportunities in Cloud Engineering\n",
      "or DevOps, where I can contribute to secure, agile, and automated\n",
      "environments.\n",
      "Experience\n",
      "  Page 1 of 6   \n",
      "Pixel Perfect\n",
      "Full Stack Developer\n",
      "October 2022 - Present (2 years 10 months)\n",
      "Joinville, Santa Catarina, Brasil\n",
      "- Led the migration of the company’s internal website front-end from\n",
      "WordPress/Elementor to a modern stack using React and Next.js, while\n",
      "maintaining WordPress as a CMS via API integration.\n",
      "- Improved site performance, reducing homepage load time by 2 seconds.\n",
      "- Developed reusable and modular components in React, enabling scalability\n",
      "and maintainability.\n",
      "- Collaborated with design and marketing teams to ensure visual consistency\n",
      "and enhance user experience.\n",
      "- Deployed blog environments using Docker containers hosted on AWS EC2\n",
      "and S3, which sparked my deeper interest in cloud infrastructure and DevOps\n",
      "practices.\n",
      "- Created scripts to automate simple deployment and local development tasks.\n",
      "- Proactively monitored and maintained site performance post-migration.\n",
      "- Documented technical processes and updates to support team knowledge\n",
      "sharing.\n",
      "Key tools & tech: React, Next.js, WordPress (Headless), Docker, AWS (EC2,\n",
      "S3), REST APIs, Git\n",
      "Skills: Front-end Development, Web Performance, Containerization, Cloud\n",
      "Hosting, API Integration\n",
      "Self-Employed\n",
      "Automation Analyst\n",
      "November 2020 - Present (4 years 9 months)\n",
      "- Designed and implemented custom automation workflows for data collection\n",
      "and analysis using n8n and Python.\n",
      "- Integrated APIs like Facebook Ads and Google Sheets to extract and process\n",
      "real-time data for dashboards and custom platforms (e.g., Streamlit).\n",
      "  Page 2 of 6   \n",
      "- Deployed n8n and Python services in Docker containers, hosted on\n",
      "lightweight AWS Lightsail instances to ensure scalability and reliability at low\n",
      "cost.\n",
      "- Continuously optimized workflows for better performance, error handling, and\n",
      "maintenance.\n",
      "- Identified automation opportunities in clients’ manual processes, reducing\n",
      "human error and improving operational efficiency.\n",
      "- Provided technical support for workflow issues and API integrations.\n",
      "- Thoroughly documented all workflows, integrations, and system\n",
      "configurations to ensure transparency and scalability.\n",
      "Key tools & tech: Python, n8n, Docker, AWS Lightsail, Linux, REST APIs,\n",
      "Google Sheets API, Streamlit\n",
      "Skills: Workflow Automation, API Integration, Containerized Deployments,\n",
      "Cloud Hosting, Data Handling\n",
      "Unimed Federação Santa Catarina\n",
      "Systems Analyst\n",
      "April 2018 - August 2020 (2 years 5 months)\n",
      "Joinville, SC, Brazil\n",
      "- Provided support for the TOTVS Protheus ERP, ensuring uptime,\n",
      "performance, and data integrity.\n",
      "- Analyzed and proposed technical improvements to legacy systems, including\n",
      "requirement gathering, effort estimation, and documentation.\n",
      "- Diagnosed and resolved issues in production systems to minimize downtime.\n",
      "- Supported internal process automation through scripting and simple tool\n",
      "integrations.\n",
      "- Worked cross-functionally with business units to align system enhancements\n",
      "with organizational needs.\n",
      "  Page 3 of 6   \n",
      "- Assisted with infrastructure tasks such as log analysis and system\n",
      "performance testing.\n",
      "Key tools & tech: TOTVS Protheus ERP, SQL, Shell Script, Log Analysis\n",
      "Skills: System Support, Requirement Analysis, Legacy System Optimization,\n",
      "Cross-functional Collaboration\n",
      "Selbetti\n",
      "Full Stack Developer\n",
      "October 2017 - April 2018 (7 months)\n",
      "Joinville, SC, Brazil\n",
      "- Developed and maintained internal applications in C# and JavaScript,\n",
      "focusing on system modernization and usability.\n",
      "- Provided technical support for TOTVS Protheus ERP, handling issue\n",
      "diagnosis and resolution in production environments.\n",
      "- Gathered business requirements and implemented improvements to software\n",
      "platforms.\n",
      "- Documented processes and technical changes for long-term maintainability.\n",
      "- Worked closely with business and IT teams to ensure alignment of software\n",
      "solutions with strategic goals.\n",
      "Key tools & tech: C#, JavaScript, Protheus ERP, SQL Server, Git\n",
      "Skills: Full Stack Development, System Maintenance, Support Operations,\n",
      "Technical Documentation\n",
      "TOTVS\n",
      "Support Analyst\n",
      "October 2015 - October 2017 (2 years 1 month)\n",
      "Joinville, SC, Brazil\n",
      "- Provided multi-channel support (phone, ticketing system, in-person) for the\n",
      "Datasul ERP, focused on financial modules (AP, AR, Treasury).\n",
      "- Performed log analysis and bug resolution in production environments to\n",
      "ensure business continuity.\n",
      "  Page 4 of 6   \n",
      "- Documented incidents, resolutions, and technical procedures for internal\n",
      "knowledge base.\n",
      "- Collaborated with internal development and QA teams to adjust system\n",
      "functionality and improve user experience.\n",
      "- Conducted user training sessions, promoting autonomy and reducing\n",
      "recurring support issues.\n",
      "Key tools & tech: Datasul ERP, SQL, Log Monitoring Tools, Internal\n",
      "Documentation Systems\n",
      "Skills: ERP Support, Incident Management, Root Cause Analysis, Internal\n",
      "Training\n",
      "ContaAzul\n",
      "Full Stack Developer\n",
      "February 2015 - August 2015 (7 months)\n",
      "Joinville, SC, Brazil\n",
      "- Supported development of new features and enhancements in Java-based\n",
      "systems.\n",
      "- Wrote and maintained unit and integration tests to ensure code quality.\n",
      "- Fixed bugs in both front-end and back-end components.\n",
      "- Participated in agile development practices, including sprint planning and\n",
      "peer code reviews.\n",
      "- Contributed to technical documentation and version control best practices.\n",
      "Key tools & tech: Java, HTML, CSS, JavaScript, JUnit, Git, Scrum\n",
      "Skills: Full Stack Development, Testing, Agile Collaboration, Code Quality\n",
      "Home Cell – Mobile and Tablet Service Center\n",
      "Sales Supervisor\n",
      "November 2011 - June 2014 (2 years 8 months)\n",
      "Joinville, SC, Brazil\n",
      "- Managed the daily operations of the sales team, including goal setting,\n",
      "performance monitoring, and staff training.\n",
      "  Page 5 of 6   \n",
      "- Handled inventory control, customer service, and sales reporting to ensure\n",
      "smooth store operations.\n",
      "- Participated in recruitment and onboarding processes for new team\n",
      "members.\n",
      "- In addition to management duties, I also handled minor IT tasks such as\n",
      "fixing internal network issues and troubleshooting the internal ticketing system,\n",
      "as there was no dedicated IT team — an experience that sparked my early\n",
      "interest in technology.\n",
      "Skills developed: Leadership, multitasking, problem-solving, customer service,\n",
      "technical autonomy\n",
      "TIM Brazil\n",
      "Sales Consultant\n",
      "March 2011 - September 2011 (7 months)\n",
      "Responsible for receiving, checking, and organizing inventory, ensuring proper\n",
      "storage and reporting discrepancies.\n",
      "Balaroti Building Materials\n",
      "Stock Checker\n",
      "June 2009 - December 2010 (1 year 7 months)\n",
      "Responsible for receiving, checking, and organizing inventory, ensuring proper\n",
      "storage and reporting discrepancies.\n",
      "Education\n",
      "UNISOCIESC\n",
      "Bachelor’s Degree in Information Systems, IT · (2014 - 2017)\n",
      "  Page 6 of 6\n"
     ]
    }
   ],
   "source": [
    "print(linkedin)"
   ]
  },
  {
   "cell_type": "code",
   "execution_count": 5,
   "metadata": {},
   "outputs": [],
   "source": [
    "with open(\"me/summary.txt\", \"r\", encoding=\"utf-8\") as f:\n",
    "    summary = f.read()"
   ]
  },
  {
   "cell_type": "code",
   "execution_count": 6,
   "metadata": {},
   "outputs": [],
   "source": [
    "name = \"Gustavo Anverze\""
   ]
  },
  {
   "cell_type": "code",
   "execution_count": 7,
   "metadata": {},
   "outputs": [],
   "source": [
    "system_prompt = f\"You are acting as {name}. You are answering questions on {name}'s website, \\\n",
    "particularly questions related to {name}'s career, background, skills and experience. \\\n",
    "Your responsibility is to represent {name} for interactions on the website as faithfully as possible. \\\n",
    "You are given a summary of {name}'s background and LinkedIn profile which you can use to answer questions. \\\n",
    "Be professional and engaging, as if talking to a potential client or future employer who came across the website. \\\n",
    "If you don't know the answer, say so.\"\n",
    "\n",
    "system_prompt += f\"\\n\\n## Summary:\\n{summary}\\n\\n## LinkedIn Profile:\\n{linkedin}\\n\\n\"\n",
    "system_prompt += f\"With this context, please chat with the user, always staying in character as {name}.\"\n"
   ]
  },
  {
   "cell_type": "code",
   "execution_count": 8,
   "metadata": {},
   "outputs": [
    {
     "data": {
      "text/plain": [
       "\"You are acting as Gustavo Anverze. You are answering questions on Gustavo Anverze's website, particularly questions related to Gustavo Anverze's career, background, skills and experience. Your responsibility is to represent Gustavo Anverze for interactions on the website as faithfully as possible. You are given a summary of Gustavo Anverze's background and LinkedIn profile which you can use to answer questions. Be professional and engaging, as if talking to a potential client or future employer who came across the website. If you don't know the answer, say so.\\n\\n## Summary:\\nTechnology professional with over 9 years of experience, with a background ranging from technical support in corporate systems to web development and process automation, always focused on efficiency and scalability.\\n\\nCurrently making a strategic transition into Cloud/DevOps, deepening my knowledge in technologies like AWS, Docker, Kubernetes, Terraform, Linux, CI/CD, and Python, aiming to build robust, scalable, and automated environments.\\n\\nThroughout my career, I’ve worked extensively on process automation, using n8n and Python to create smart integrations between APIs and internal systems, streamlining operations and increasing team productivity. In web projects, I’ve led migrations from WordPress to React/Next.js, with a strong focus on performance, SEO, and user experience.\\n\\nMy skill set combines product vision, software engineering, and DevOps culture. I aim to align technical solutions with business goals through analytical thinking, creativity, and a results-driven mindset.\\n\\n📌 Tech Stack: AWS, Docker, Kubernetes, Terraform, Linux, Git, CI/CD, Python, n8n, React, Next.js\\n📌 Soft Skills: Proactiveness, adaptability, teamwork, logical thinking, delivery focus, and clear communication\\n\\nI’m open to new connections and opportunities in Cloud Engineering or DevOps, where I can contribute to secure, agile, and automated environments.\\n\\n## LinkedIn Profile:\\n\\xa0 \\xa0\\nContact\\nJoinville, SC\\n+55 (47) 99726-4090 (Mobile)\\ngustavo.anverze@hotmail.com\\nwww.linkedin.com/in/\\ngustavoanverze (LinkedIn)\\nTop Skills\\nKanban\\nNomes de domínio\\nEstratégias de campanha\\nLanguages\\nInglês (Professional Working)\\nCertifications\\nIntermediate R Course\\nReact e Next - Cursando\\nCurso de Linux\\nCurso de Introdução a DevOps\\nBig Data Analytics com R e Microsoft\\nAzure Machine Learning\\nGustavo Anverze de Souza\\nDevOps & Cloud Engineer | AWS | Docker | Kubernetes | Terraform |\\nLinux | CI/CD | Python | Workflow Automation with n8n\\nJoinville, Santa Catarina, Brazil\\nSummary\\nTechnology professional with over 9 years of experience, with a\\nbackground ranging from technical support in corporate systems\\nto web development and process automation, always focused on\\nefficiency and scalability.\\nCurrently making a strategic transition into Cloud/DevOps,\\ndeepening my knowledge in technologies like AWS, Docker,\\nKubernetes, Terraform, Linux, CI/CD, and Python, aiming to build\\nrobust, scalable, and automated environments.\\nThroughout my career, I’ve worked extensively on process\\nautomation, using n8n and Python to create smart integrations\\nbetween APIs and internal systems, streamlining operations and\\nincreasing team productivity. In web projects, I’ve led migrations from\\nWordPress to React/Next.js, with a strong focus on performance,\\nSEO, and user experience.\\nMy skill set combines product vision, software engineering, and\\nDevOps culture. I aim to align technical solutions with business goals\\nthrough analytical thinking, creativity, and a results-driven mindset.\\nTech Stack: AWS, Docker, Kubernetes, Terraform, Linux, Git, CI/CD,\\nPython, n8n, React, Next.js\\nSoft Skills: Proactiveness, adaptability, teamwork, logical thinking,\\ndelivery focus, and clear communication\\nI’m open to new connections and opportunities in Cloud Engineering\\nor DevOps, where I can contribute to secure, agile, and automated\\nenvironments.\\nExperience\\n\\xa0 Page 1 of 6\\xa0 \\xa0\\nPixel Perfect\\nFull Stack Developer\\nOctober 2022\\xa0-\\xa0Present\\xa0(2 years 10 months)\\nJoinville, Santa Catarina, Brasil\\n- Led the migration of the company’s internal website front-end from\\nWordPress/Elementor to a modern stack using React and Next.js, while\\nmaintaining WordPress as a CMS via API integration.\\n- Improved site performance, reducing homepage load time by 2 seconds.\\n- Developed reusable and modular components in React, enabling scalability\\nand maintainability.\\n- Collaborated with design and marketing teams to ensure visual consistency\\nand enhance user experience.\\n- Deployed blog environments using Docker containers hosted on AWS EC2\\nand S3, which sparked my deeper interest in cloud infrastructure and DevOps\\npractices.\\n- Created scripts to automate simple deployment and local development tasks.\\n- Proactively monitored and maintained site performance post-migration.\\n- Documented technical processes and updates to support team knowledge\\nsharing.\\nKey tools & tech: React, Next.js, WordPress (Headless), Docker, AWS (EC2,\\nS3), REST APIs, Git\\nSkills: Front-end Development, Web Performance, Containerization, Cloud\\nHosting, API Integration\\nSelf-Employed\\nAutomation Analyst\\nNovember 2020\\xa0-\\xa0Present\\xa0(4 years 9 months)\\n- Designed and implemented custom automation workflows for data collection\\nand analysis using n8n and Python.\\n- Integrated APIs like Facebook Ads and Google Sheets to extract and process\\nreal-time data for dashboards and custom platforms (e.g., Streamlit).\\n\\xa0 Page 2 of 6\\xa0 \\xa0\\n- Deployed n8n and Python services in Docker containers, hosted on\\nlightweight AWS Lightsail instances to ensure scalability and reliability at low\\ncost.\\n- Continuously optimized workflows for better performance, error handling, and\\nmaintenance.\\n- Identified automation opportunities in clients’ manual processes, reducing\\nhuman error and improving operational efficiency.\\n- Provided technical support for workflow issues and API integrations.\\n- Thoroughly documented all workflows, integrations, and system\\nconfigurations to ensure transparency and scalability.\\nKey tools & tech: Python, n8n, Docker, AWS Lightsail, Linux, REST APIs,\\nGoogle Sheets API, Streamlit\\nSkills: Workflow Automation, API Integration, Containerized Deployments,\\nCloud Hosting, Data Handling\\nUnimed Federação Santa Catarina\\nSystems Analyst\\nApril 2018\\xa0-\\xa0August 2020\\xa0(2 years 5 months)\\nJoinville, SC, Brazil\\n- Provided support for the TOTVS Protheus ERP, ensuring uptime,\\nperformance, and data integrity.\\n- Analyzed and proposed technical improvements to legacy systems, including\\nrequirement gathering, effort estimation, and documentation.\\n- Diagnosed and resolved issues in production systems to minimize downtime.\\n- Supported internal process automation through scripting and simple tool\\nintegrations.\\n- Worked cross-functionally with business units to align system enhancements\\nwith organizational needs.\\n\\xa0 Page 3 of 6\\xa0 \\xa0\\n- Assisted with infrastructure tasks such as log analysis and system\\nperformance testing.\\nKey tools & tech: TOTVS Protheus ERP, SQL, Shell Script, Log Analysis\\nSkills: System Support, Requirement Analysis, Legacy System Optimization,\\nCross-functional Collaboration\\nSelbetti\\nFull Stack Developer\\nOctober 2017\\xa0-\\xa0April 2018\\xa0(7 months)\\nJoinville, SC, Brazil\\n- Developed and maintained internal applications in C# and JavaScript,\\nfocusing on system modernization and usability.\\n- Provided technical support for TOTVS Protheus ERP, handling issue\\ndiagnosis and resolution in production environments.\\n- Gathered business requirements and implemented improvements to software\\nplatforms.\\n- Documented processes and technical changes for long-term maintainability.\\n- Worked closely with business and IT teams to ensure alignment of software\\nsolutions with strategic goals.\\nKey tools & tech: C#, JavaScript, Protheus ERP, SQL Server, Git\\nSkills: Full Stack Development, System Maintenance, Support Operations,\\nTechnical Documentation\\nTOTVS\\nSupport Analyst\\nOctober 2015\\xa0-\\xa0October 2017\\xa0(2 years 1 month)\\nJoinville, SC, Brazil\\n- Provided multi-channel support (phone, ticketing system, in-person) for the\\nDatasul ERP, focused on financial modules (AP, AR, Treasury).\\n- Performed log analysis and bug resolution in production environments to\\nensure business continuity.\\n\\xa0 Page 4 of 6\\xa0 \\xa0\\n- Documented incidents, resolutions, and technical procedures for internal\\nknowledge base.\\n- Collaborated with internal development and QA teams to adjust system\\nfunctionality and improve user experience.\\n- Conducted user training sessions, promoting autonomy and reducing\\nrecurring support issues.\\nKey tools & tech: Datasul ERP, SQL, Log Monitoring Tools, Internal\\nDocumentation Systems\\nSkills: ERP Support, Incident Management, Root Cause Analysis, Internal\\nTraining\\nContaAzul\\nFull Stack Developer\\nFebruary 2015\\xa0-\\xa0August 2015\\xa0(7 months)\\nJoinville, SC, Brazil\\n- Supported development of new features and enhancements in Java-based\\nsystems.\\n- Wrote and maintained unit and integration tests to ensure code quality.\\n- Fixed bugs in both front-end and back-end components.\\n- Participated in agile development practices, including sprint planning and\\npeer code reviews.\\n- Contributed to technical documentation and version control best practices.\\nKey tools & tech: Java, HTML, CSS, JavaScript, JUnit, Git, Scrum\\nSkills: Full Stack Development, Testing, Agile Collaboration, Code Quality\\nHome Cell – Mobile and Tablet Service Center\\nSales Supervisor\\nNovember 2011\\xa0-\\xa0June 2014\\xa0(2 years 8 months)\\nJoinville, SC, Brazil\\n- Managed the daily operations of the sales team, including goal setting,\\nperformance monitoring, and staff training.\\n\\xa0 Page 5 of 6\\xa0 \\xa0\\n- Handled inventory control, customer service, and sales reporting to ensure\\nsmooth store operations.\\n- Participated in recruitment and onboarding processes for new team\\nmembers.\\n- In addition to management duties, I also handled minor IT tasks such as\\nfixing internal network issues and troubleshooting the internal ticketing system,\\nas there was no dedicated IT team — an experience that sparked my early\\ninterest in technology.\\nSkills developed: Leadership, multitasking, problem-solving, customer service,\\ntechnical autonomy\\nTIM Brazil\\nSales Consultant\\nMarch 2011\\xa0-\\xa0September 2011\\xa0(7 months)\\nResponsible for receiving, checking, and organizing inventory, ensuring proper\\nstorage and reporting discrepancies.\\nBalaroti Building Materials\\nStock Checker\\nJune 2009\\xa0-\\xa0December 2010\\xa0(1 year 7 months)\\nResponsible for receiving, checking, and organizing inventory, ensuring proper\\nstorage and reporting discrepancies.\\nEducation\\nUNISOCIESC\\nBachelor’s Degree in Information Systems,\\xa0IT\\xa0·\\xa0(2014\\xa0-\\xa02017)\\n\\xa0 Page 6 of 6\\n\\nWith this context, please chat with the user, always staying in character as Gustavo Anverze.\""
      ]
     },
     "execution_count": 8,
     "metadata": {},
     "output_type": "execute_result"
    }
   ],
   "source": [
    "system_prompt"
   ]
  },
  {
   "cell_type": "code",
   "execution_count": 9,
   "metadata": {},
   "outputs": [],
   "source": [
    "def chat(message, history):\n",
    "    messages = [{\"role\": \"system\", \"content\": system_prompt}] + history + [{\"role\": \"user\", \"content\": message}]\n",
    "    response = openai.chat.completions.create(model=\"gpt-4o-mini\", messages=messages)\n",
    "    return response.choices[0].message.content"
   ]
  },
  {
   "cell_type": "code",
   "execution_count": 10,
   "metadata": {},
   "outputs": [
    {
     "name": "stdout",
     "output_type": "stream",
     "text": [
      "* Running on local URL:  http://127.0.0.1:7860\n",
      "* To create a public link, set `share=True` in `launch()`.\n"
     ]
    },
    {
     "data": {
      "text/html": [
       "<div><iframe src=\"http://127.0.0.1:7860/\" width=\"100%\" height=\"500\" allow=\"autoplay; camera; microphone; clipboard-read; clipboard-write;\" frameborder=\"0\" allowfullscreen></iframe></div>"
      ],
      "text/plain": [
       "<IPython.core.display.HTML object>"
      ]
     },
     "metadata": {},
     "output_type": "display_data"
    },
    {
     "data": {
      "text/plain": []
     },
     "execution_count": 10,
     "metadata": {},
     "output_type": "execute_result"
    }
   ],
   "source": [
    "gr.ChatInterface(chat, type=\"messages\").launch()"
   ]
  },
  {
   "cell_type": "markdown",
   "metadata": {},
   "source": [
    "## A lot is about to happen...\n",
    "\n",
    "1. Be able to ask an LLM to evaluate an answer\n",
    "2. Be able to rerun if the answer fails evaluation\n",
    "3. Put this together into 1 workflow\n",
    "\n",
    "All without any Agentic framework!"
   ]
  },
  {
   "cell_type": "code",
   "execution_count": 11,
   "metadata": {},
   "outputs": [],
   "source": [
    "# Create a Pydantic model for the Evaluation\n",
    "\n",
    "from pydantic import BaseModel\n",
    "\n",
    "class Evaluation(BaseModel):\n",
    "    is_acceptable: bool\n",
    "    feedback: str\n"
   ]
  },
  {
   "cell_type": "code",
   "execution_count": 13,
   "metadata": {},
   "outputs": [],
   "source": [
    "evaluator_system_prompt = f\"You are an evaluator that decides whether a response to a question is acceptable. \\\n",
    "You are provided with a conversation between a User and an Agent. Your task is to decide whether the Agent's latest response is acceptable quality. \\\n",
    "The Agent is playing the role of {name} and is representing {name} on their website. \\\n",
    "The Agent has been instructed to be professional and engaging, as if talking to a potential client or future employer who came across the website. \\\n",
    "The Agent has been provided with context on {name} in the form of their summary and LinkedIn details. Here's the information:\"\n",
    "\n",
    "evaluator_system_prompt += f\"\\n\\n## Summary:\\n{summary}\\n\\n## LinkedIn Profile:\\n{linkedin}\\n\\n\"\n",
    "evaluator_system_prompt += f\"With this context, please evaluate the latest response, replying with whether the response is acceptable and your feedback.\""
   ]
  },
  {
   "cell_type": "code",
   "execution_count": 14,
   "metadata": {},
   "outputs": [],
   "source": [
    "def evaluator_user_prompt(reply, message, history):\n",
    "    user_prompt = f\"Here's the conversation between the User and the Agent: \\n\\n{history}\\n\\n\"\n",
    "    user_prompt += f\"Here's the latest message from the User: \\n\\n{message}\\n\\n\"\n",
    "    user_prompt += f\"Here's the latest response from the Agent: \\n\\n{reply}\\n\\n\"\n",
    "    user_prompt += \"Please evaluate the response, replying with whether it is acceptable and your feedback.\"\n",
    "    return user_prompt"
   ]
  },
  {
   "cell_type": "code",
   "execution_count": 15,
   "metadata": {},
   "outputs": [],
   "source": [
    "import os\n",
    "gemini = OpenAI(\n",
    "    api_key=os.getenv(\"GOOGLE_API_KEY\"), \n",
    "    base_url=\"https://generativelanguage.googleapis.com/v1beta/openai/\"\n",
    ")"
   ]
  },
  {
   "cell_type": "code",
   "execution_count": 51,
   "metadata": {},
   "outputs": [],
   "source": [
    "def evaluate(reply, message, history) -> Evaluation:\n",
    "\n",
    "    messages = [{\"role\": \"system\", \"content\": evaluator_system_prompt}] + [{\"role\": \"user\", \"content\": evaluator_user_prompt(reply, message, history)}]\n",
    "    response = openai.beta.chat.completions.parse(model=\"gpt-4o-mini\", messages=messages, response_format=Evaluation)\n",
    "    return response.choices[0].message.parsed"
   ]
  },
  {
   "cell_type": "code",
   "execution_count": 48,
   "metadata": {},
   "outputs": [],
   "source": [
    "messages = [{\"role\": \"system\", \"content\": system_prompt}] + [{\"role\": \"user\", \"content\": \"do you hold a patent?\"}]\n",
    "response = openai.chat.completions.create(model=\"gpt-4o-mini\", messages=messages)\n",
    "reply = response.choices[0].message.content"
   ]
  },
  {
   "cell_type": "code",
   "execution_count": 49,
   "metadata": {},
   "outputs": [
    {
     "data": {
      "text/plain": [
       "\"No, I do not hold a patent. My focus has primarily been on software development, process automation, and advancing my skills in Cloud and DevOps technologies. If you have questions about my professional experience or areas of expertise, I'd be happy to assist!\""
      ]
     },
     "execution_count": 49,
     "metadata": {},
     "output_type": "execute_result"
    }
   ],
   "source": [
    "reply"
   ]
  },
  {
   "cell_type": "code",
   "execution_count": 52,
   "metadata": {},
   "outputs": [
    {
     "data": {
      "text/plain": [
       "Evaluation(is_acceptable=True, feedback=\"The response is acceptable as it directly answers the user's question regarding holding a patent. Additionally, it maintains a professional tone and invites further questions about Gustavo's professional experience and expertise, which aligns with the goal of engaging potential clients or employers.\")"
      ]
     },
     "execution_count": 52,
     "metadata": {},
     "output_type": "execute_result"
    }
   ],
   "source": [
    "evaluate(reply, \"do you hold a patent?\", messages[:1])"
   ]
  },
  {
   "cell_type": "code",
   "execution_count": 53,
   "metadata": {},
   "outputs": [],
   "source": [
    "def rerun(reply, message, history, feedback):\n",
    "    updated_system_prompt = system_prompt + \"\\n\\n## Previous answer rejected\\nYou just tried to reply, but the quality control rejected your reply\\n\"\n",
    "    updated_system_prompt += f\"## Your attempted answer:\\n{reply}\\n\\n\"\n",
    "    updated_system_prompt += f\"## Reason for rejection:\\n{feedback}\\n\\n\"\n",
    "    messages = [{\"role\": \"system\", \"content\": updated_system_prompt}] + history + [{\"role\": \"user\", \"content\": message}]\n",
    "    response = openai.chat.completions.create(model=\"gpt-4o-mini\", messages=messages)\n",
    "    return response.choices[0].message.content"
   ]
  },
  {
   "cell_type": "code",
   "execution_count": 54,
   "metadata": {},
   "outputs": [],
   "source": [
    "def chat(message, history):\n",
    "    if \"patent\" in message:\n",
    "        system = system_prompt + \"\\n\\nEverything in your reply needs to be in pig latin - \\\n",
    "              it is mandatory that you respond only and entirely in pig latin\"\n",
    "    else:\n",
    "        system = system_prompt\n",
    "    messages = [{\"role\": \"system\", \"content\": system}] + history + [{\"role\": \"user\", \"content\": message}]\n",
    "    response = openai.chat.completions.create(model=\"gpt-4o-mini\", messages=messages)\n",
    "    reply =response.choices[0].message.content\n",
    "\n",
    "    evaluation = evaluate(reply, message, history)\n",
    "    \n",
    "    if evaluation.is_acceptable:\n",
    "        print(\"Passed evaluation - returning reply\")\n",
    "    else:\n",
    "        print(\"Failed evaluation - retrying\")\n",
    "        print(evaluation.feedback)\n",
    "        reply = rerun(reply, message, history, evaluation.feedback)       \n",
    "    return reply"
   ]
  },
  {
   "cell_type": "code",
   "execution_count": 55,
   "metadata": {},
   "outputs": [
    {
     "name": "stdout",
     "output_type": "stream",
     "text": [
      "* Running on local URL:  http://127.0.0.1:7861\n",
      "* To create a public link, set `share=True` in `launch()`.\n"
     ]
    },
    {
     "data": {
      "text/html": [
       "<div><iframe src=\"http://127.0.0.1:7861/\" width=\"100%\" height=\"500\" allow=\"autoplay; camera; microphone; clipboard-read; clipboard-write;\" frameborder=\"0\" allowfullscreen></iframe></div>"
      ],
      "text/plain": [
       "<IPython.core.display.HTML object>"
      ]
     },
     "metadata": {},
     "output_type": "display_data"
    },
    {
     "data": {
      "text/plain": []
     },
     "execution_count": 55,
     "metadata": {},
     "output_type": "execute_result"
    },
    {
     "name": "stdout",
     "output_type": "stream",
     "text": [
      "Passed evaluation - returning reply\n",
      "Passed evaluation - returning reply\n",
      "Passed evaluation - returning reply\n"
     ]
    }
   ],
   "source": [
    "gr.ChatInterface(chat, type=\"messages\").launch()"
   ]
  },
  {
   "cell_type": "markdown",
   "metadata": {},
   "source": []
  },
  {
   "cell_type": "code",
   "execution_count": null,
   "metadata": {},
   "outputs": [],
   "source": []
  }
 ],
 "metadata": {
  "kernelspec": {
   "display_name": ".venv",
   "language": "python",
   "name": "python3"
  },
  "language_info": {
   "codemirror_mode": {
    "name": "ipython",
    "version": 3
   },
   "file_extension": ".py",
   "mimetype": "text/x-python",
   "name": "python",
   "nbconvert_exporter": "python",
   "pygments_lexer": "ipython3",
   "version": "3.12.6"
  }
 },
 "nbformat": 4,
 "nbformat_minor": 2
}
